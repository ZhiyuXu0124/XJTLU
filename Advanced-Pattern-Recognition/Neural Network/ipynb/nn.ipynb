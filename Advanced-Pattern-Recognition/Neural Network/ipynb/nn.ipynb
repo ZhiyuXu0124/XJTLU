{
 "cells": [
  {
   "cell_type": "code",
   "execution_count": 1,
   "metadata": {},
   "outputs": [],
   "source": [
    "import pandas as pd\n",
    "import numpy as np\n",
    "from sklearn.utils import shuffle"
   ]
  },
  {
   "cell_type": "markdown",
   "metadata": {},
   "source": [
    "# Read dataset\n",
    " Attribute Information: (class attribute has been moved to last column)\n",
    " \n",
    "| Attribute  | Domain |\n",
    "|:--------------:| ------------- |\n",
    "|Sample code number  | 1 - 10  |\n",
    "|Clump Thickness| 1 - 10  |\n",
    "|Uniformity of Cell Size| 1 - 10  |\n",
    "|Uniformity of Cell Shape  | 1 - 10  |\n",
    "|Marginal Adhesion  | 1 - 10  |\n",
    "|Single Epithelial Cell Size  | 1 - 10  |\n",
    "|Bare Nuclei  | 1 - 10  |\n",
    "|Bland Chromatin  | 1 - 10  |\n",
    "|Normal Nucleoli  | 1 - 10  |\n",
    "|Mitoses  | 1 - 10  |\n",
    "|Class  | 2 for benign, 4 for malignant  |"
   ]
  },
  {
   "cell_type": "markdown",
   "metadata": {},
   "source": [
    "##  Create the column names and read data"
   ]
  },
  {
   "cell_type": "code",
   "execution_count": 2,
   "metadata": {},
   "outputs": [
    {
     "name": "stdout",
     "output_type": "stream",
     "text": [
      "(699, 11)\n"
     ]
    },
    {
     "data": {
      "text/html": [
       "<div>\n",
       "<style scoped>\n",
       "    .dataframe tbody tr th:only-of-type {\n",
       "        vertical-align: middle;\n",
       "    }\n",
       "\n",
       "    .dataframe tbody tr th {\n",
       "        vertical-align: top;\n",
       "    }\n",
       "\n",
       "    .dataframe thead th {\n",
       "        text-align: right;\n",
       "    }\n",
       "</style>\n",
       "<table border=\"1\" class=\"dataframe\">\n",
       "  <thead>\n",
       "    <tr style=\"text-align: right;\">\n",
       "      <th></th>\n",
       "      <th>Sample code number</th>\n",
       "      <th>Clump Thickness</th>\n",
       "      <th>Uniformity of Cell Size</th>\n",
       "      <th>Uniformity of Cell Shape</th>\n",
       "      <th>Marginal Adhesion</th>\n",
       "      <th>Single Epithelial Cell Size</th>\n",
       "      <th>Bare Nuclei</th>\n",
       "      <th>Bland Chromatin</th>\n",
       "      <th>Normal Nucleoli</th>\n",
       "      <th>Mitoses</th>\n",
       "      <th>Class</th>\n",
       "    </tr>\n",
       "  </thead>\n",
       "  <tbody>\n",
       "    <tr>\n",
       "      <th>0</th>\n",
       "      <td>1000025</td>\n",
       "      <td>5</td>\n",
       "      <td>1</td>\n",
       "      <td>1</td>\n",
       "      <td>1</td>\n",
       "      <td>2</td>\n",
       "      <td>1</td>\n",
       "      <td>3</td>\n",
       "      <td>1</td>\n",
       "      <td>1</td>\n",
       "      <td>2</td>\n",
       "    </tr>\n",
       "    <tr>\n",
       "      <th>1</th>\n",
       "      <td>1002945</td>\n",
       "      <td>5</td>\n",
       "      <td>4</td>\n",
       "      <td>4</td>\n",
       "      <td>5</td>\n",
       "      <td>7</td>\n",
       "      <td>10</td>\n",
       "      <td>3</td>\n",
       "      <td>2</td>\n",
       "      <td>1</td>\n",
       "      <td>2</td>\n",
       "    </tr>\n",
       "    <tr>\n",
       "      <th>2</th>\n",
       "      <td>1015425</td>\n",
       "      <td>3</td>\n",
       "      <td>1</td>\n",
       "      <td>1</td>\n",
       "      <td>1</td>\n",
       "      <td>2</td>\n",
       "      <td>2</td>\n",
       "      <td>3</td>\n",
       "      <td>1</td>\n",
       "      <td>1</td>\n",
       "      <td>2</td>\n",
       "    </tr>\n",
       "    <tr>\n",
       "      <th>3</th>\n",
       "      <td>1016277</td>\n",
       "      <td>6</td>\n",
       "      <td>8</td>\n",
       "      <td>8</td>\n",
       "      <td>1</td>\n",
       "      <td>3</td>\n",
       "      <td>4</td>\n",
       "      <td>3</td>\n",
       "      <td>7</td>\n",
       "      <td>1</td>\n",
       "      <td>2</td>\n",
       "    </tr>\n",
       "    <tr>\n",
       "      <th>4</th>\n",
       "      <td>1017023</td>\n",
       "      <td>4</td>\n",
       "      <td>1</td>\n",
       "      <td>1</td>\n",
       "      <td>3</td>\n",
       "      <td>2</td>\n",
       "      <td>1</td>\n",
       "      <td>3</td>\n",
       "      <td>1</td>\n",
       "      <td>1</td>\n",
       "      <td>2</td>\n",
       "    </tr>\n",
       "    <tr>\n",
       "      <th>5</th>\n",
       "      <td>1017122</td>\n",
       "      <td>8</td>\n",
       "      <td>10</td>\n",
       "      <td>10</td>\n",
       "      <td>8</td>\n",
       "      <td>7</td>\n",
       "      <td>10</td>\n",
       "      <td>9</td>\n",
       "      <td>7</td>\n",
       "      <td>1</td>\n",
       "      <td>4</td>\n",
       "    </tr>\n",
       "    <tr>\n",
       "      <th>6</th>\n",
       "      <td>1018099</td>\n",
       "      <td>1</td>\n",
       "      <td>1</td>\n",
       "      <td>1</td>\n",
       "      <td>1</td>\n",
       "      <td>2</td>\n",
       "      <td>10</td>\n",
       "      <td>3</td>\n",
       "      <td>1</td>\n",
       "      <td>1</td>\n",
       "      <td>2</td>\n",
       "    </tr>\n",
       "    <tr>\n",
       "      <th>7</th>\n",
       "      <td>1018561</td>\n",
       "      <td>2</td>\n",
       "      <td>1</td>\n",
       "      <td>2</td>\n",
       "      <td>1</td>\n",
       "      <td>2</td>\n",
       "      <td>1</td>\n",
       "      <td>3</td>\n",
       "      <td>1</td>\n",
       "      <td>1</td>\n",
       "      <td>2</td>\n",
       "    </tr>\n",
       "    <tr>\n",
       "      <th>8</th>\n",
       "      <td>1033078</td>\n",
       "      <td>2</td>\n",
       "      <td>1</td>\n",
       "      <td>1</td>\n",
       "      <td>1</td>\n",
       "      <td>2</td>\n",
       "      <td>1</td>\n",
       "      <td>1</td>\n",
       "      <td>1</td>\n",
       "      <td>5</td>\n",
       "      <td>2</td>\n",
       "    </tr>\n",
       "    <tr>\n",
       "      <th>9</th>\n",
       "      <td>1033078</td>\n",
       "      <td>4</td>\n",
       "      <td>2</td>\n",
       "      <td>1</td>\n",
       "      <td>1</td>\n",
       "      <td>2</td>\n",
       "      <td>1</td>\n",
       "      <td>2</td>\n",
       "      <td>1</td>\n",
       "      <td>1</td>\n",
       "      <td>2</td>\n",
       "    </tr>\n",
       "  </tbody>\n",
       "</table>\n",
       "</div>"
      ],
      "text/plain": [
       "   Sample code number  Clump Thickness  Uniformity of Cell Size  \\\n",
       "0             1000025                5                        1   \n",
       "1             1002945                5                        4   \n",
       "2             1015425                3                        1   \n",
       "3             1016277                6                        8   \n",
       "4             1017023                4                        1   \n",
       "5             1017122                8                       10   \n",
       "6             1018099                1                        1   \n",
       "7             1018561                2                        1   \n",
       "8             1033078                2                        1   \n",
       "9             1033078                4                        2   \n",
       "\n",
       "   Uniformity of Cell Shape  Marginal Adhesion  Single Epithelial Cell Size  \\\n",
       "0                         1                  1                            2   \n",
       "1                         4                  5                            7   \n",
       "2                         1                  1                            2   \n",
       "3                         8                  1                            3   \n",
       "4                         1                  3                            2   \n",
       "5                        10                  8                            7   \n",
       "6                         1                  1                            2   \n",
       "7                         2                  1                            2   \n",
       "8                         1                  1                            2   \n",
       "9                         1                  1                            2   \n",
       "\n",
       "  Bare Nuclei  Bland Chromatin  Normal Nucleoli  Mitoses  Class  \n",
       "0           1                3                1        1      2  \n",
       "1          10                3                2        1      2  \n",
       "2           2                3                1        1      2  \n",
       "3           4                3                7        1      2  \n",
       "4           1                3                1        1      2  \n",
       "5          10                9                7        1      4  \n",
       "6          10                3                1        1      2  \n",
       "7           1                3                1        1      2  \n",
       "8           1                1                1        5      2  \n",
       "9           1                2                1        1      2  "
      ]
     },
     "execution_count": 2,
     "metadata": {},
     "output_type": "execute_result"
    }
   ],
   "source": [
    "columnNames = [\n",
    "    'Sample code number',\n",
    "    'Clump Thickness',\n",
    "    'Uniformity of Cell Size',\n",
    "    'Uniformity of Cell Shape',\n",
    "    'Marginal Adhesion',\n",
    "    'Single Epithelial Cell Size',\n",
    "    'Bare Nuclei',\n",
    "    'Bland Chromatin',\n",
    "    'Normal Nucleoli',\n",
    "    'Mitoses',\n",
    "    'Class'\n",
    "]\n",
    "data = pd.read_csv('breast-cancer-wisconsin.data', names = columnNames)\n",
    "print(data.shape)\n",
    "data.head(10)"
   ]
  },
  {
   "cell_type": "markdown",
   "metadata": {},
   "source": [
    "## Remove missing attribute values\n",
    ">According to the documentation: There are 16 instances in Groups 1 to 6 that contain a single missing \n",
    "   (i.e., unavailable) attribute value, now denoted by \"?\". "
   ]
  },
  {
   "cell_type": "code",
   "execution_count": 3,
   "metadata": {},
   "outputs": [
    {
     "data": {
      "text/plain": [
       "(683, 11)"
      ]
     },
     "execution_count": 3,
     "metadata": {},
     "output_type": "execute_result"
    }
   ],
   "source": [
    "#Replace ？ with NaN\n",
    "data = data.replace(to_replace='?',value = np.nan)\n",
    "#Discard data with missing values (discard as long as one dimension is missing)\n",
    "data = data.dropna(how='any')\n",
    "data.shape"
   ]
  },
  {
   "cell_type": "markdown",
   "metadata": {},
   "source": [
    "## Suffer dataset\n",
    ">random.seed = 17"
   ]
  },
  {
   "cell_type": "code",
   "execution_count": 4,
   "metadata": {},
   "outputs": [
    {
     "data": {
      "text/html": [
       "<div>\n",
       "<style scoped>\n",
       "    .dataframe tbody tr th:only-of-type {\n",
       "        vertical-align: middle;\n",
       "    }\n",
       "\n",
       "    .dataframe tbody tr th {\n",
       "        vertical-align: top;\n",
       "    }\n",
       "\n",
       "    .dataframe thead th {\n",
       "        text-align: right;\n",
       "    }\n",
       "</style>\n",
       "<table border=\"1\" class=\"dataframe\">\n",
       "  <thead>\n",
       "    <tr style=\"text-align: right;\">\n",
       "      <th></th>\n",
       "      <th>Sample code number</th>\n",
       "      <th>Clump Thickness</th>\n",
       "      <th>Uniformity of Cell Size</th>\n",
       "      <th>Uniformity of Cell Shape</th>\n",
       "      <th>Marginal Adhesion</th>\n",
       "      <th>Single Epithelial Cell Size</th>\n",
       "      <th>Bare Nuclei</th>\n",
       "      <th>Bland Chromatin</th>\n",
       "      <th>Normal Nucleoli</th>\n",
       "      <th>Mitoses</th>\n",
       "      <th>Class</th>\n",
       "    </tr>\n",
       "  </thead>\n",
       "  <tbody>\n",
       "    <tr>\n",
       "      <th>0</th>\n",
       "      <td>1231853</td>\n",
       "      <td>4</td>\n",
       "      <td>2</td>\n",
       "      <td>2</td>\n",
       "      <td>1</td>\n",
       "      <td>2</td>\n",
       "      <td>1</td>\n",
       "      <td>2</td>\n",
       "      <td>1</td>\n",
       "      <td>1</td>\n",
       "      <td>2</td>\n",
       "    </tr>\n",
       "    <tr>\n",
       "      <th>1</th>\n",
       "      <td>1304595</td>\n",
       "      <td>3</td>\n",
       "      <td>1</td>\n",
       "      <td>1</td>\n",
       "      <td>1</td>\n",
       "      <td>1</td>\n",
       "      <td>1</td>\n",
       "      <td>2</td>\n",
       "      <td>1</td>\n",
       "      <td>1</td>\n",
       "      <td>2</td>\n",
       "    </tr>\n",
       "    <tr>\n",
       "      <th>2</th>\n",
       "      <td>1083817</td>\n",
       "      <td>3</td>\n",
       "      <td>1</td>\n",
       "      <td>1</td>\n",
       "      <td>1</td>\n",
       "      <td>2</td>\n",
       "      <td>1</td>\n",
       "      <td>2</td>\n",
       "      <td>1</td>\n",
       "      <td>1</td>\n",
       "      <td>2</td>\n",
       "    </tr>\n",
       "    <tr>\n",
       "      <th>3</th>\n",
       "      <td>1175937</td>\n",
       "      <td>5</td>\n",
       "      <td>4</td>\n",
       "      <td>6</td>\n",
       "      <td>7</td>\n",
       "      <td>9</td>\n",
       "      <td>7</td>\n",
       "      <td>8</td>\n",
       "      <td>10</td>\n",
       "      <td>1</td>\n",
       "      <td>4</td>\n",
       "    </tr>\n",
       "    <tr>\n",
       "      <th>4</th>\n",
       "      <td>188336</td>\n",
       "      <td>5</td>\n",
       "      <td>3</td>\n",
       "      <td>2</td>\n",
       "      <td>8</td>\n",
       "      <td>5</td>\n",
       "      <td>10</td>\n",
       "      <td>8</td>\n",
       "      <td>1</td>\n",
       "      <td>2</td>\n",
       "      <td>4</td>\n",
       "    </tr>\n",
       "    <tr>\n",
       "      <th>5</th>\n",
       "      <td>1080233</td>\n",
       "      <td>7</td>\n",
       "      <td>6</td>\n",
       "      <td>6</td>\n",
       "      <td>3</td>\n",
       "      <td>2</td>\n",
       "      <td>10</td>\n",
       "      <td>7</td>\n",
       "      <td>1</td>\n",
       "      <td>1</td>\n",
       "      <td>4</td>\n",
       "    </tr>\n",
       "    <tr>\n",
       "      <th>6</th>\n",
       "      <td>1232225</td>\n",
       "      <td>10</td>\n",
       "      <td>4</td>\n",
       "      <td>5</td>\n",
       "      <td>5</td>\n",
       "      <td>5</td>\n",
       "      <td>10</td>\n",
       "      <td>4</td>\n",
       "      <td>1</td>\n",
       "      <td>1</td>\n",
       "      <td>4</td>\n",
       "    </tr>\n",
       "    <tr>\n",
       "      <th>7</th>\n",
       "      <td>1230175</td>\n",
       "      <td>10</td>\n",
       "      <td>10</td>\n",
       "      <td>10</td>\n",
       "      <td>3</td>\n",
       "      <td>10</td>\n",
       "      <td>10</td>\n",
       "      <td>9</td>\n",
       "      <td>10</td>\n",
       "      <td>1</td>\n",
       "      <td>4</td>\n",
       "    </tr>\n",
       "    <tr>\n",
       "      <th>8</th>\n",
       "      <td>1212422</td>\n",
       "      <td>3</td>\n",
       "      <td>1</td>\n",
       "      <td>1</td>\n",
       "      <td>1</td>\n",
       "      <td>2</td>\n",
       "      <td>1</td>\n",
       "      <td>3</td>\n",
       "      <td>1</td>\n",
       "      <td>1</td>\n",
       "      <td>2</td>\n",
       "    </tr>\n",
       "    <tr>\n",
       "      <th>9</th>\n",
       "      <td>1243256</td>\n",
       "      <td>10</td>\n",
       "      <td>4</td>\n",
       "      <td>3</td>\n",
       "      <td>2</td>\n",
       "      <td>3</td>\n",
       "      <td>10</td>\n",
       "      <td>5</td>\n",
       "      <td>3</td>\n",
       "      <td>2</td>\n",
       "      <td>4</td>\n",
       "    </tr>\n",
       "  </tbody>\n",
       "</table>\n",
       "</div>"
      ],
      "text/plain": [
       "   Sample code number  Clump Thickness  Uniformity of Cell Size  \\\n",
       "0             1231853                4                        2   \n",
       "1             1304595                3                        1   \n",
       "2             1083817                3                        1   \n",
       "3             1175937                5                        4   \n",
       "4              188336                5                        3   \n",
       "5             1080233                7                        6   \n",
       "6             1232225               10                        4   \n",
       "7             1230175               10                       10   \n",
       "8             1212422                3                        1   \n",
       "9             1243256               10                        4   \n",
       "\n",
       "   Uniformity of Cell Shape  Marginal Adhesion  Single Epithelial Cell Size  \\\n",
       "0                         2                  1                            2   \n",
       "1                         1                  1                            1   \n",
       "2                         1                  1                            2   \n",
       "3                         6                  7                            9   \n",
       "4                         2                  8                            5   \n",
       "5                         6                  3                            2   \n",
       "6                         5                  5                            5   \n",
       "7                        10                  3                           10   \n",
       "8                         1                  1                            2   \n",
       "9                         3                  2                            3   \n",
       "\n",
       "  Bare Nuclei  Bland Chromatin  Normal Nucleoli  Mitoses  Class  \n",
       "0           1                2                1        1      2  \n",
       "1           1                2                1        1      2  \n",
       "2           1                2                1        1      2  \n",
       "3           7                8               10        1      4  \n",
       "4          10                8                1        2      4  \n",
       "5          10                7                1        1      4  \n",
       "6          10                4                1        1      4  \n",
       "7          10                9               10        1      4  \n",
       "8           1                3                1        1      2  \n",
       "9          10                5                3        2      4  "
      ]
     },
     "execution_count": 4,
     "metadata": {},
     "output_type": "execute_result"
    }
   ],
   "source": [
    "data_shuffled = shuffle(data,random_state = 17).reset_index(drop=True)\n",
    "data_shuffled.head(10)"
   ]
  },
  {
   "cell_type": "markdown",
   "metadata": {},
   "source": [
    "## Split dataset into data and label\n",
    ">To facilitate the calculation, the data type is converted to an integer"
   ]
  },
  {
   "cell_type": "code",
   "execution_count": 5,
   "metadata": {},
   "outputs": [
    {
     "name": "stdout",
     "output_type": "stream",
     "text": [
      "data size is (683, 10)\n",
      "label size is (683,)\n"
     ]
    },
    {
     "name": "stderr",
     "output_type": "stream",
     "text": [
      "C:\\Users\\Alienware\\Anaconda3\\lib\\site-packages\\ipykernel_launcher.py:2: SettingWithCopyWarning: \n",
      "A value is trying to be set on a copy of a slice from a DataFrame.\n",
      "Try using .loc[row_indexer,col_indexer] = value instead\n",
      "\n",
      "See the caveats in the documentation: http://pandas.pydata.org/pandas-docs/stable/indexing.html#indexing-view-versus-copy\n",
      "  \n"
     ]
    }
   ],
   "source": [
    "data, label =data_shuffled[columnNames[1:10]], data_shuffled[columnNames[10]]\n",
    "data['Extra features'] = 1\n",
    "data =data.astype('int')\n",
    "data_list = data.values.tolist()\n",
    "label =label.astype('int')\n",
    "label_list = label.values.tolist()\n",
    "print(f'data size is {data.shape}')\n",
    "print(f'label size is {label.shape}')"
   ]
  },
  {
   "cell_type": "markdown",
   "metadata": {},
   "source": [
    "#  Split the dataset\n",
    "## as five parts to do cross-fold validation"
   ]
  },
  {
   "cell_type": "code",
   "execution_count": 6,
   "metadata": {},
   "outputs": [
    {
     "name": "stdout",
     "output_type": "stream",
     "text": [
      "[[10, 10, 10, 7, 10, 10, 8, 2, 1, 1], [1, 2, 1, 3, 2, 1, 1, 2, 1, 1], [1, 1, 1, 1, 3, 2, 2, 1, 1, 1], [4, 1, 1, 1, 2, 1, 3, 6, 1, 1], [5, 1, 1, 3, 2, 1, 1, 1, 1, 1]]\n",
      "[[10, 10, 10, 7, 10, 10, 8, 2, 1, 1], [1, 2, 1, 3, 2, 1, 1, 2, 1, 1], [1, 1, 1, 1, 3, 2, 2, 1, 1, 1], [4, 1, 1, 1, 2, 1, 3, 6, 1, 1], [5, 1, 1, 3, 2, 1, 1, 1, 1, 1]]\n",
      "[[10, 10, 10, 7, 10, 10, 8, 2, 1, 1], [1, 2, 1, 3, 2, 1, 1, 2, 1, 1], [1, 1, 1, 1, 3, 2, 2, 1, 1, 1], [4, 1, 1, 1, 2, 1, 3, 6, 1, 1], [5, 1, 1, 3, 2, 1, 1, 1, 1, 1]]\n",
      "[[10, 10, 10, 7, 10, 10, 8, 2, 1, 1], [1, 2, 1, 3, 2, 1, 1, 2, 1, 1], [1, 1, 1, 1, 3, 2, 2, 1, 1, 1], [4, 1, 1, 1, 2, 1, 3, 6, 1, 1], [5, 1, 1, 3, 2, 1, 1, 1, 1, 1]]\n",
      "[[5, 1, 1, 1, 2, 1, 1, 1, 1, 1], [3, 2, 2, 3, 2, 3, 3, 1, 1, 1], [1, 1, 1, 1, 1, 1, 2, 1, 1, 1], [1, 1, 1, 1, 2, 1, 1, 1, 1, 1], [5, 10, 6, 1, 10, 4, 4, 10, 10, 1]]\n"
     ]
    }
   ],
   "source": [
    "from sklearn.model_selection import KFold\n",
    "kf = KFold(n_splits=5)\n",
    "data_train_index,data_test_index = [],[]\n",
    "for train_index, test_index in kf.split(data):\n",
    "    data_train_index.append(train_index)\n",
    "    data_test_index.append(test_index)\n",
    "data_train, label_train = [], []\n",
    "data_test,label_test = [],[]\n",
    "for i in range(5):\n",
    "    temp = []\n",
    "    for j in range(len(data_train_index[i])):\n",
    "        temp.append(data_list[data_train_index[i][j]])\n",
    "    data_train.append(temp)\n",
    "    temp = []\n",
    "    for j in range(len(data_train_index[i])):\n",
    "        temp.append(label_list[data_train_index[i][j]])\n",
    "    label_train.append(temp)\n",
    "\n",
    "    temp = []\n",
    "    for k in range(len(data_test_index[i])):\n",
    "        temp.append(data_list[data_test_index[i][k]])\n",
    "    data_test.append(temp)\n",
    "    temp = []\n",
    "    for k in range(len(data_test_index[i])):\n",
    "        temp.append(label_list[data_test_index[i][k]])\n",
    "    label_test.append(temp)\n",
    "for i in range(5):\n",
    "    print(data_train[i][-5:])\n",
    "#     print(data_test[i][-5:])"
   ]
  },
  {
   "cell_type": "markdown",
   "metadata": {},
   "source": [
    "# Augment the feature vector x with an additional constant dimension"
   ]
  },
  {
   "cell_type": "code",
   "execution_count": 7,
   "metadata": {},
   "outputs": [
    {
     "data": {
      "text/html": [
       "<div>\n",
       "<style scoped>\n",
       "    .dataframe tbody tr th:only-of-type {\n",
       "        vertical-align: middle;\n",
       "    }\n",
       "\n",
       "    .dataframe tbody tr th {\n",
       "        vertical-align: top;\n",
       "    }\n",
       "\n",
       "    .dataframe thead th {\n",
       "        text-align: right;\n",
       "    }\n",
       "</style>\n",
       "<table border=\"1\" class=\"dataframe\">\n",
       "  <thead>\n",
       "    <tr style=\"text-align: right;\">\n",
       "      <th></th>\n",
       "      <th>Clump Thickness</th>\n",
       "      <th>Uniformity of Cell Size</th>\n",
       "      <th>Uniformity of Cell Shape</th>\n",
       "      <th>Marginal Adhesion</th>\n",
       "      <th>Single Epithelial Cell Size</th>\n",
       "      <th>Bare Nuclei</th>\n",
       "      <th>Bland Chromatin</th>\n",
       "      <th>Normal Nucleoli</th>\n",
       "      <th>Mitoses</th>\n",
       "      <th>Extra features</th>\n",
       "    </tr>\n",
       "  </thead>\n",
       "  <tbody>\n",
       "    <tr>\n",
       "      <th>0</th>\n",
       "      <td>4</td>\n",
       "      <td>2</td>\n",
       "      <td>2</td>\n",
       "      <td>1</td>\n",
       "      <td>2</td>\n",
       "      <td>1</td>\n",
       "      <td>2</td>\n",
       "      <td>1</td>\n",
       "      <td>1</td>\n",
       "      <td>1</td>\n",
       "    </tr>\n",
       "    <tr>\n",
       "      <th>1</th>\n",
       "      <td>3</td>\n",
       "      <td>1</td>\n",
       "      <td>1</td>\n",
       "      <td>1</td>\n",
       "      <td>1</td>\n",
       "      <td>1</td>\n",
       "      <td>2</td>\n",
       "      <td>1</td>\n",
       "      <td>1</td>\n",
       "      <td>1</td>\n",
       "    </tr>\n",
       "    <tr>\n",
       "      <th>2</th>\n",
       "      <td>3</td>\n",
       "      <td>1</td>\n",
       "      <td>1</td>\n",
       "      <td>1</td>\n",
       "      <td>2</td>\n",
       "      <td>1</td>\n",
       "      <td>2</td>\n",
       "      <td>1</td>\n",
       "      <td>1</td>\n",
       "      <td>1</td>\n",
       "    </tr>\n",
       "    <tr>\n",
       "      <th>3</th>\n",
       "      <td>5</td>\n",
       "      <td>4</td>\n",
       "      <td>6</td>\n",
       "      <td>7</td>\n",
       "      <td>9</td>\n",
       "      <td>7</td>\n",
       "      <td>8</td>\n",
       "      <td>10</td>\n",
       "      <td>1</td>\n",
       "      <td>1</td>\n",
       "    </tr>\n",
       "    <tr>\n",
       "      <th>4</th>\n",
       "      <td>5</td>\n",
       "      <td>3</td>\n",
       "      <td>2</td>\n",
       "      <td>8</td>\n",
       "      <td>5</td>\n",
       "      <td>10</td>\n",
       "      <td>8</td>\n",
       "      <td>1</td>\n",
       "      <td>2</td>\n",
       "      <td>1</td>\n",
       "    </tr>\n",
       "    <tr>\n",
       "      <th>5</th>\n",
       "      <td>7</td>\n",
       "      <td>6</td>\n",
       "      <td>6</td>\n",
       "      <td>3</td>\n",
       "      <td>2</td>\n",
       "      <td>10</td>\n",
       "      <td>7</td>\n",
       "      <td>1</td>\n",
       "      <td>1</td>\n",
       "      <td>1</td>\n",
       "    </tr>\n",
       "    <tr>\n",
       "      <th>6</th>\n",
       "      <td>10</td>\n",
       "      <td>4</td>\n",
       "      <td>5</td>\n",
       "      <td>5</td>\n",
       "      <td>5</td>\n",
       "      <td>10</td>\n",
       "      <td>4</td>\n",
       "      <td>1</td>\n",
       "      <td>1</td>\n",
       "      <td>1</td>\n",
       "    </tr>\n",
       "    <tr>\n",
       "      <th>7</th>\n",
       "      <td>10</td>\n",
       "      <td>10</td>\n",
       "      <td>10</td>\n",
       "      <td>3</td>\n",
       "      <td>10</td>\n",
       "      <td>10</td>\n",
       "      <td>9</td>\n",
       "      <td>10</td>\n",
       "      <td>1</td>\n",
       "      <td>1</td>\n",
       "    </tr>\n",
       "    <tr>\n",
       "      <th>8</th>\n",
       "      <td>3</td>\n",
       "      <td>1</td>\n",
       "      <td>1</td>\n",
       "      <td>1</td>\n",
       "      <td>2</td>\n",
       "      <td>1</td>\n",
       "      <td>3</td>\n",
       "      <td>1</td>\n",
       "      <td>1</td>\n",
       "      <td>1</td>\n",
       "    </tr>\n",
       "    <tr>\n",
       "      <th>9</th>\n",
       "      <td>10</td>\n",
       "      <td>4</td>\n",
       "      <td>3</td>\n",
       "      <td>2</td>\n",
       "      <td>3</td>\n",
       "      <td>10</td>\n",
       "      <td>5</td>\n",
       "      <td>3</td>\n",
       "      <td>2</td>\n",
       "      <td>1</td>\n",
       "    </tr>\n",
       "  </tbody>\n",
       "</table>\n",
       "</div>"
      ],
      "text/plain": [
       "   Clump Thickness  Uniformity of Cell Size  Uniformity of Cell Shape  \\\n",
       "0                4                        2                         2   \n",
       "1                3                        1                         1   \n",
       "2                3                        1                         1   \n",
       "3                5                        4                         6   \n",
       "4                5                        3                         2   \n",
       "5                7                        6                         6   \n",
       "6               10                        4                         5   \n",
       "7               10                       10                        10   \n",
       "8                3                        1                         1   \n",
       "9               10                        4                         3   \n",
       "\n",
       "   Marginal Adhesion  Single Epithelial Cell Size  Bare Nuclei  \\\n",
       "0                  1                            2            1   \n",
       "1                  1                            1            1   \n",
       "2                  1                            2            1   \n",
       "3                  7                            9            7   \n",
       "4                  8                            5           10   \n",
       "5                  3                            2           10   \n",
       "6                  5                            5           10   \n",
       "7                  3                           10           10   \n",
       "8                  1                            2            1   \n",
       "9                  2                            3           10   \n",
       "\n",
       "   Bland Chromatin  Normal Nucleoli  Mitoses  Extra features  \n",
       "0                2                1        1               1  \n",
       "1                2                1        1               1  \n",
       "2                2                1        1               1  \n",
       "3                8               10        1               1  \n",
       "4                8                1        2               1  \n",
       "5                7                1        1               1  \n",
       "6                4                1        1               1  \n",
       "7                9               10        1               1  \n",
       "8                3                1        1               1  \n",
       "9                5                3        2               1  "
      ]
     },
     "execution_count": 7,
     "metadata": {},
     "output_type": "execute_result"
    }
   ],
   "source": [
    "data['Extra features'] = 1\n",
    "data.head(10)"
   ]
  },
  {
   "cell_type": "markdown",
   "metadata": {},
   "source": [
    "# Scale linearly the attribute values $x_{ij} $ into $\\left[ -1,1\\right] $ for each dimensional feature as follows:\n",
    ">$$\n",
    "x_{ij} \\leftarrow 2\\frac{x_{ij}-min_i x_{ij}+10^{-6}}{max_ix_{ij}-min_ix_{ij}+10^{-6}} -1\n",
    "$$"
   ]
  },
  {
   "cell_type": "code",
   "execution_count": 9,
   "metadata": {},
   "outputs": [],
   "source": [
    "def Scale(data):\n",
    "    arr =  np.array(data)\n",
    "    new_data = []\n",
    "    for i in range(len(arr)):\n",
    "        tmp = []\n",
    "        for j in range(len(arr[i])):\n",
    "            tmp.append(2*((arr[i][j]-np.min(arr[i])+1E-6)/(np.max(arr[i])-np.min(arr[i])+1E-6))-1)\n",
    "        new_data.append(tmp)\n",
    "    return new_data"
   ]
  },
  {
   "cell_type": "code",
   "execution_count": 10,
   "metadata": {},
   "outputs": [
    {
     "name": "stdout",
     "output_type": "stream",
     "text": [
      "Orignal data: [4, 2, 2, 1, 2, 1, 2, 1, 1, 1]\n",
      "Scaled data: [1.0, -0.3333328888890371, -0.3333328888890371, -0.9999993333335555, -0.3333328888890371, -0.9999993333335555, -0.3333328888890371, -0.9999993333335555, -0.9999993333335555, -0.9999993333335555]\n",
      "Orignal data: [3, 1, 1, 1, 1, 1, 2, 1, 1, 1]\n",
      "Scaled data: [1.0, -0.9999990000005, -0.9999990000005, -0.9999990000005, -0.9999990000005, -0.9999990000005, 4.999997498256192e-07, -0.9999990000005, -0.9999990000005, -0.9999990000005]\n",
      "Orignal data: [3, 1, 1, 1, 2, 1, 2, 1, 1, 1]\n",
      "Scaled data: [1.0, -0.9999990000005, -0.9999990000005, -0.9999990000005, 4.999997498256192e-07, -0.9999990000005, 4.999997498256192e-07, -0.9999990000005, -0.9999990000005, -0.9999990000005]\n",
      "Orignal data: [5, 4, 6, 7, 9, 7, 8, 10, 1, 1]\n",
      "Scaled data: [-0.11111098765433458, -0.3333331851852016, 0.11111120987653234, 0.33333340740739925, 0.7777778024691331, 0.33333340740739925, 0.5555556049382662, 1.0, -0.9999997777778025, -0.9999997777778025]\n",
      "Orignal data: [5, 3, 2, 8, 5, 10, 8, 1, 2, 1]\n",
      "Scaled data: [-0.11111098765433458, -0.5555553827160685, -0.7777775802469356, 0.5555556049382662, -0.11111098765433458, 1.0, 0.5555556049382662, -0.9999997777778025, -0.7777775802469356, -0.9999997777778025]\n"
     ]
    }
   ],
   "source": [
    "arr = Scale(data_list)\n",
    "for i in range(5):\n",
    "    print(f'Orignal data: {data_list[i]}')\n",
    "    print(f'Scaled data: {arr[i]}')"
   ]
  },
  {
   "cell_type": "markdown",
   "metadata": {},
   "source": [
    "# The label $l_n $ of the n-th example is converted into a $K$ dimensional vector $t_n$  as follows($K$ is the number of the classes)\n",
    "$$\n",
    "t_{nk} \\leftarrow \\begin{cases}\n",
    "+1, & \\text {$k = l_n$} \\\\\n",
    "0, &\\text{$k \\neq l_n$}\n",
    "\\end{cases}\n",
    "$$\n",
    "In this case, data havs two labels and 683 examples, so size of $t_{nk}$ should be (683,2）"
   ]
  },
  {
   "cell_type": "code",
   "execution_count": 11,
   "metadata": {},
   "outputs": [],
   "source": [
    "def Onehot(label,num):\n",
    "    length = len(label)\n",
    "    t_nk = np.zeros((length,num),dtype='int')\n",
    "    for i in range(length):\n",
    "        if label[i] == 2:\n",
    "            t_nk[i][0] = 1\n",
    "        elif label[i] == 4:\n",
    "            t_nk[i][1] = 1\n",
    "    return t_nk"
   ]
  },
  {
   "cell_type": "code",
   "execution_count": 12,
   "metadata": {},
   "outputs": [
    {
     "name": "stdout",
     "output_type": "stream",
     "text": [
      "Orignal label is 2, t_1k is [1 0]\n",
      "Orignal label is 2, t_2k is [1 0]\n",
      "Orignal label is 2, t_3k is [1 0]\n",
      "Orignal label is 4, t_4k is [0 1]\n",
      "Orignal label is 4, t_5k is [0 1]\n",
      "Orignal label is 4, t_6k is [0 1]\n",
      "Orignal label is 4, t_7k is [0 1]\n",
      "Orignal label is 4, t_8k is [0 1]\n",
      "Orignal label is 2, t_9k is [1 0]\n",
      "Orignal label is 4, t_10k is [0 1]\n"
     ]
    }
   ],
   "source": [
    "t_nk = Onehot(label_list,2)\n",
    "for i in range(10):\n",
    "    print(f'Orignal label is {label[i]}, t_{i+1}k is {t_nk[i]}')"
   ]
  },
  {
   "cell_type": "code",
   "execution_count": 13,
   "metadata": {},
   "outputs": [
    {
     "name": "stdout",
     "output_type": "stream",
     "text": [
      "Orignal label is 2, t_1k is [1 0]\n",
      "Orignal label is 2, t_2k is [1 0]\n",
      "Orignal label is 2, t_3k is [1 0]\n",
      "Orignal label is 4, t_4k is [0 1]\n",
      "Orignal label is 4, t_5k is [0 1]\n",
      "Orignal label is 4, t_6k is [0 1]\n",
      "Orignal label is 4, t_7k is [0 1]\n",
      "Orignal label is 4, t_8k is [0 1]\n",
      "Orignal label is 2, t_9k is [1 0]\n",
      "Orignal label is 4, t_10k is [0 1]\n"
     ]
    }
   ],
   "source": [
    "length = len(label_list)\n",
    "t_nk = np.zeros((length,2),dtype='int')\n",
    "for i in range(length):\n",
    "    if label[i] == 2:\n",
    "        t_nk[i][0] = 1\n",
    "    elif label[i] == 4:\n",
    "        t_nk[i][1] = 1\n",
    "for i in range(10):\n",
    "    print(f'Orignal label is {label[i]}, t_{i+1}k is {t_nk[i]}')"
   ]
  },
  {
   "cell_type": "markdown",
   "metadata": {},
   "source": [
    "# Initialize all weight $w_{ij}$ of MLP network \n",
    "Such as $w_{ij} \\in \\left[ -\\sqrt{\\frac{6}{D+1+K}},\\sqrt{\\frac{6}{D+1+K}} \\right]$  where D and K is the number of the input nodes and the output nodes (each node is related to a class), respectively\n",
    "\n",
    "In this case, D = 10 , K = 2, so $w_{ij} \\in \\left[ -\\sqrt{\\frac{6}{13}},\\sqrt{\\frac{6}{13}} \\right]$ "
   ]
  },
  {
   "cell_type": "code",
   "execution_count": 14,
   "metadata": {
    "scrolled": true
   },
   "outputs": [
    {
     "name": "stdout",
     "output_type": "stream",
     "text": [
      "[[ 0.36865216 -0.65116987]\n",
      " [ 0.18159219  0.33805791]\n",
      " [-0.00202857 -0.37392773]\n",
      " [-0.41025178  0.35399153]\n",
      " [-0.44958984 -0.55933605]\n",
      " [ 0.2518544   0.61604025]\n",
      " [-0.67400158  0.01656602]\n",
      " [ 0.42476824  0.15289282]\n",
      " [ 0.30130614 -0.28278474]\n",
      " [ 0.56764325  0.29155108]]\n",
      "(10, 2)\n"
     ]
    }
   ],
   "source": [
    "def get_w(size, D, K, seed = 666):\n",
    "    np.random.seed(seed)\n",
    "    w = np.random.random(size)  # w → [0,1]\n",
    "    w = 2*w -1 # w → [-1,1]\n",
    "    w = w * np.sqrt(6/(D+K+1)) # w → [-sqrt(6/(D+K+1)),sqrt(6/(D+K+1))]  \n",
    "    return w\n",
    "print(get_w([10,2],10,2,seed = 10))\n",
    "print(get_w([10,2],10,2,seed = 10).shape)"
   ]
  },
  {
   "cell_type": "markdown",
   "metadata": {},
   "source": [
    "# Choose randomly an input vector $x$ to network and forward propagate through the network ($H$ is the number of the hidden units)\n",
    "> input layer: (N, 10)<br>\n",
    "> $\\omega^{(1)}_{ij}$: (10, 50)<br>\n",
    "> hidden layer: (N, 50)<br>\n",
    "> $\\omega^{(2)}_{kj}$: (50, 2)<br>\n",
    "> output layer: (N, 2)"
   ]
  },
  {
   "cell_type": "code",
   "execution_count": 15,
   "metadata": {},
   "outputs": [],
   "source": [
    "def twolayer(Input, w1, w2):\n",
    "    Input = np.array(Input)\n",
    "    a1 = Input @ w1\n",
    "    z1 = np.tanh(a1)\n",
    "    yk = z1 @ w2\n",
    "    return yk"
   ]
  },
  {
   "cell_type": "code",
   "execution_count": 16,
   "metadata": {},
   "outputs": [
    {
     "name": "stdout",
     "output_type": "stream",
     "text": [
      "[[ 0.28205616 -2.68709007]\n",
      " [ 1.29892027 -1.68803515]\n",
      " [ 0.73945765 -2.11643316]\n",
      " ...\n",
      " [ 0.24719097 -3.06454142]\n",
      " [ 4.94216549  0.95316127]\n",
      " [ 2.75443411 -0.57151883]] \n",
      " (683, 2)\n"
     ]
    }
   ],
   "source": [
    "w1 = get_w([10, 50],10,2)\n",
    "w2 = get_w([50, 2 ],10,2)\n",
    "ans = twolayer(data_list, w1, w2)\n",
    "print(ans,'\\n',ans.shape)"
   ]
  },
  {
   "cell_type": "markdown",
   "metadata": {},
   "source": [
    "# Evaluation"
   ]
  },
  {
   "cell_type": "code",
   "execution_count": 17,
   "metadata": {},
   "outputs": [
    {
     "name": "stdout",
     "output_type": "stream",
     "text": [
      "[[-0.71794384 -2.68709007]\n",
      " [ 0.29892027 -1.68803515]\n",
      " [-0.26054235 -2.11643316]\n",
      " ...\n",
      " [-0.75280903 -3.06454142]\n",
      " [ 3.94216549  0.95316127]\n",
      " [ 1.75443411 -0.57151883]] \n",
      " (683, 2)\n"
     ]
    }
   ],
   "source": [
    "yk = ans\n",
    "delta_k  = yk - t_nk\n",
    "print(delta_k,'\\n',delta_k.shape)"
   ]
  },
  {
   "cell_type": "markdown",
   "metadata": {},
   "source": [
    "# Backpropagate"
   ]
  },
  {
   "cell_type": "code",
   "execution_count": 30,
   "metadata": {},
   "outputs": [
    {
     "name": "stdout",
     "output_type": "stream",
     "text": [
      "(10, 50) (50, 2)\n",
      "(683, 50)\n",
      "(683, 50)\n",
      "(683, 50)\n",
      "[[ 0. -0.  0.  0.  0.  0.  0. -0. -0. -0.  0.]\n",
      " [ 0. -0.  0.  0.  0.  0.  0. -0. -0. -0.  0.]\n",
      " [ 0. -0.  0.  0.  0.  0.  0. -0. -0. -0.  0.]\n",
      " [ 0. -0.  0.  0.  0.  0.  0. -0. -0. -0.  0.]\n",
      " [ 0. -0.  0.  0.  0.  0.  0. -0. -0. -0.  0.]\n",
      " [ 0. -0.  0.  0.  0.  0.  0. -0. -0. -0.  0.]\n",
      " [ 0. -0.  0.  0.  0.  0.  0. -0. -0. -0.  0.]\n",
      " [ 0. -0.  0.  0.  0.  0.  0. -0. -0. -0.  0.]\n",
      " [ 0. -0.  0.  0.  0.  0.  0. -0. -0. -0.  0.]\n",
      " [ 0. -0.  0.  0.  0.  0.  0. -0. -0. -0.  0.]]\n"
     ]
    }
   ],
   "source": [
    "Input = np.array(data_list)\n",
    "z1 = np.tanh(Input @ w1)\n",
    "delta_j = (1 - z1 ** 2)*(delta_k @ w2.T)\n",
    "print(w1.shape,w2.shape)\n",
    "print(delta_j.shape)\n",
    "print(z1.shape)\n",
    "print((delta_k @ w2.T).shape)\n",
    "print(delta_j[:10,10:21])"
   ]
  },
  {
   "cell_type": "code",
   "execution_count": 19,
   "metadata": {},
   "outputs": [
    {
     "name": "stdout",
     "output_type": "stream",
     "text": [
      "(10, 50)\n",
      "(50, 2)\n"
     ]
    }
   ],
   "source": [
    "w1 = w1 - Input.T  @ delta_j\n",
    "print(w1.shape)\n",
    "w2 = w2 - z1.T @ delta_k\n",
    "print(w2.shape)"
   ]
  },
  {
   "cell_type": "markdown",
   "metadata": {},
   "source": [
    "# Train step"
   ]
  },
  {
   "cell_type": "code",
   "execution_count": 304,
   "metadata": {},
   "outputs": [],
   "source": [
    "# Initialize w and learning rate\n",
    "w1 = get_w([10, 5],10,2)\n",
    "w2 = get_w([5, 2 ],10,2)\n",
    "lr = 0.001\n",
    "# a1 = data @ w1   #  (546, 10) @ (10, 50)  → （546， 50）\n",
    "# z1 = np.tanh(a1)\n",
    "# yk = z1 @ w2    #  (546, 50) @ (50, 2)  → （546， 2）"
   ]
  },
  {
   "cell_type": "code",
   "execution_count": 305,
   "metadata": {},
   "outputs": [],
   "source": [
    "for step in range(60):\n",
    "    data = shuffle(np.array(Scale(data_train[0])),random_state =step)\n",
    "    label= shuffle(np.array(Onehot(label_train[0],2)),random_state =step)\n",
    "#     for i in range(len(data)):\n",
    "    a1 = data @ w1   #  (546, 10) @ (10, 5)  → （546， 5）\n",
    "    z1 = np.tanh(a1)\n",
    "    yk = z1 @ w2    #  (546, 5) @ (0, 2)  → （546， 2）\n",
    "    delta_k  = yk - label\n",
    "    delta_j = (1 - (z1 ** 2))*(delta_k @ w2.T)\n",
    "    w1 -= lr * (data.T  @ delta_j)\n",
    "    w2 -= lr * (z1.T @ delta_k)"
   ]
  },
  {
   "cell_type": "code",
   "execution_count": 306,
   "metadata": {},
   "outputs": [
    {
     "name": "stdout",
     "output_type": "stream",
     "text": [
      "[[ 0.21780582  0.49779811 -0.12577752  0.16219794  0.59328552]\n",
      " [-0.71006793 -0.19822378 -0.44062126 -0.3744215  -0.01128187]\n",
      " [-0.40944097  0.24200927 -0.42903413  0.22143725 -0.27697932]\n",
      " [ 0.31991873 -0.66076709 -0.21392939 -0.3366648  -0.39049121]\n",
      " [-0.60658036  0.37927553  0.05075557 -0.24535132  0.49514522]\n",
      " [ 0.50337598 -0.08598906 -0.62887113  0.13963489 -0.20060336]\n",
      " [ 0.40974202  0.09132377  0.12070204  0.16689196 -0.06809268]\n",
      " [ 0.30303995 -0.14320579 -0.5584276   0.2313006  -0.43781829]\n",
      " [-0.49856368  0.05379212 -0.38575053  0.34127502 -0.41866514]\n",
      " [-0.47647914 -0.18987215  0.81226064  0.90821946  0.04687673]] [[ 0.06733516  0.16177814]\n",
      " [ 0.3228141   0.23762876]\n",
      " [ 0.52946495 -0.61118296]\n",
      " [-0.58013668 -0.44300965]\n",
      " [-0.25283696 -0.06416318]]\n"
     ]
    }
   ],
   "source": [
    "print(w1,w2)"
   ]
  },
  {
   "cell_type": "code",
   "execution_count": 310,
   "metadata": {},
   "outputs": [
    {
     "name": "stdout",
     "output_type": "stream",
     "text": [
      "0.9197080291970803\n"
     ]
    }
   ],
   "source": [
    "a1 = np.array(Scale(data_test[0])) @ w1\n",
    "z1 = np.tanh(a1)\n",
    "yk = z1 @ w2\n",
    "# print(yk)\n",
    "print(np.mean(np.equal(np.argmax(yk,1),np.argmax(Onehot(label_test[0],2),1))))\n",
    "# print(np.argmax(yk,1))\n",
    "# print(np.argmax(label,1))\n",
    "# print(label)"
   ]
  },
  {
   "cell_type": "code",
   "execution_count": 31,
   "metadata": {},
   "outputs": [],
   "source": [
    "def SBA(data, label, w1, w2, lr, steps):\n",
    "    for step in range(steps):\n",
    "        data = shuffle(np.array(Scale(data_train[0])),random_state =step)\n",
    "        label= shuffle(np.array(Onehot(label_train[0],2)),random_state =step)\n",
    "        a1 = data @ w1   #  (546, 10) @ (10, 5)  → （546， 5）\n",
    "        z1 = np.tanh(a1)\n",
    "        yk = z1 @ w2    #  (546, 5) @ (0, 2)  → （546， 2）\n",
    "        delta_k  = yk - label\n",
    "        delta_j = (1 - (z1 ** 2))*(delta_k @ w2.T)\n",
    "        w1 -= lr * (data.T  @ delta_j)\n",
    "        w2 -= lr * (z1.T @ delta_k)\n",
    "    return w1, w2\n",
    "def Acc(data, label, w1, w2):\n",
    "    a1 = np.array(Scale(data)) @ w1\n",
    "    z1 = np.tanh(a1)\n",
    "    yk = z1 @ w2\n",
    "    return np.mean(np.equal(np.argmax(yk,1),np.argmax(Onehot(label,2),1)))"
   ]
  },
  {
   "cell_type": "code",
   "execution_count": 32,
   "metadata": {},
   "outputs": [
    {
     "name": "stdout",
     "output_type": "stream",
     "text": [
      "The number of hidden layers is5\n",
      "Training dataset accuracy: 0.9399702673925707,Testing dataset accuracy: 0.9399635036496351\n",
      "The number of hidden layers is10\n",
      "Training dataset accuracy: 0.9326496172931273,Testing dataset accuracy: 0.9326427651352512\n",
      "The number of hidden layers is15\n",
      "Training dataset accuracy: 0.9267934990055648,Testing dataset accuracy: 0.9267926148561616\n",
      "The number of hidden layers is20\n",
      "Training dataset accuracy: 0.7481654847285559,Testing dataset accuracy: 0.7481000429368828\n",
      "The number of hidden layers is25\n",
      "Training dataset accuracy: 0.30600545097802867,Testing dataset accuracy: 0.3060433662516101\n",
      "The number of hidden layers is30\n",
      "Training dataset accuracy: 0.269403539787452,Testing dataset accuracy: 0.269461142121082\n",
      "The number of hidden layers is35\n",
      "Training dataset accuracy: 0.7247403419249855,Testing dataset accuracy: 0.7246887075998282\n",
      "The number of hidden layers is40\n",
      "Training dataset accuracy: 0.2723305944512526,Testing dataset accuracy: 0.27237011592958355\n",
      "The number of hidden layers is45\n",
      "Training dataset accuracy: 0.2913648204324621,Testing dataset accuracy: 0.291412623443538\n",
      "The number of hidden layers is50\n",
      "Training dataset accuracy: 0.3074693131365892,Testing dataset accuracy: 0.30750322026620863\n"
     ]
    }
   ],
   "source": [
    "train_Acc_mean = []\n",
    "test_Acc_mean = []\n",
    "for h in range(10):\n",
    "    H = 5 * (h + 1)\n",
    "    train_Acc = []\n",
    "    test_Acc = []\n",
    "    for i in range(5):\n",
    "        # Initialize w and learning rate\n",
    "        w1 = get_w([10, H],10,2)\n",
    "        w2 = get_w([H, 2 ],10,2)\n",
    "        lr = 0.001\n",
    "        #training\n",
    "        w1, w2 = SBA(data_train[i], label_train[i], w1, w2, lr, 100)\n",
    "        train_Acc.append(Acc(data_train[i], label_train[i], w1, w2))\n",
    "        test_Acc.append(Acc(data_test[i], label_test[i], w1, w2))\n",
    "    print(f'The number of hidden layers is{H}')\n",
    "    print(f'Training dataset accuracy: {np.mean(np.array(train_Acc))},Testing dataset accuracy: {np.mean(np.array(test_Acc))}')\n",
    "    train_Acc_mean.append(np.mean(np.array(train_Acc)))\n",
    "    test_Acc_mean.append(np.mean(np.array(test_Acc)))"
   ]
  },
  {
   "cell_type": "code",
   "execution_count": 42,
   "metadata": {},
   "outputs": [
    {
     "data": {
      "text/plain": [
       "<matplotlib.legend.Legend at 0xbf5d1e0828>"
      ]
     },
     "execution_count": 42,
     "metadata": {},
     "output_type": "execute_result"
    },
    {
     "data": {
      "image/png": "[encoded data removed]",
      "text/plain": [
       "<Figure size 1152x648 with 1 Axes>"
      ]
     },
     "metadata": {
      "needs_background": "light"
     },
     "output_type": "display_data"
    }
   ],
   "source": [
    "import matplotlib.pyplot as plt\n",
    "x = np.linspace(5,50,10)\n",
    "plt.figure(figsize= (16,9))\n",
    "plt.plot(x,train_Acc_mean,label='train')\n",
    "plt.plot(x,test_Acc_mean,label='test')\n",
    "plt.xlabel('Number of hidden layer')\n",
    "plt.ylabel('Accuracy')\n",
    "plt.legend()"
   ]
  },
  {
   "cell_type": "code",
   "execution_count": 43,
   "metadata": {},
   "outputs": [
    {
     "name": "stdout",
     "output_type": "stream",
     "text": [
      "The number of hidden layers is5\n",
      "Training dataset accuracy: 0.9414341295511314,Testing dataset accuracy: 0.9414233576642337\n",
      "The number of hidden layers is10\n",
      "Training dataset accuracy: 0.9385064052340102,Testing dataset accuracy: 0.9385036496350365\n",
      "The number of hidden layers is15\n",
      "Training dataset accuracy: 0.9297218929760064,Testing dataset accuracy: 0.9297230571060542\n",
      "The number of hidden layers is20\n",
      "Training dataset accuracy: 0.7481654847285559,Testing dataset accuracy: 0.7481000429368828\n"
     ]
    },
    {
     "name": "stderr",
     "output_type": "stream",
     "text": [
      "C:\\Users\\Alienware\\Anaconda3\\lib\\site-packages\\ipykernel_launcher.py:9: RuntimeWarning: overflow encountered in matmul\n",
      "  if __name__ == '__main__':\n",
      "C:\\Users\\Alienware\\Anaconda3\\lib\\site-packages\\ipykernel_launcher.py:9: RuntimeWarning: invalid value encountered in multiply\n",
      "  if __name__ == '__main__':\n"
     ]
    },
    {
     "name": "stdout",
     "output_type": "stream",
     "text": [
      "The number of hidden layers is25\n",
      "Training dataset accuracy: 0.6500753359985536,Testing dataset accuracy: 0.6501073422069558\n",
      "The number of hidden layers is30\n",
      "Training dataset accuracy: 0.6500753359985536,Testing dataset accuracy: 0.6501073422069558\n",
      "The number of hidden layers is35\n",
      "Training dataset accuracy: 0.6500753359985536,Testing dataset accuracy: 0.6501073422069558\n",
      "The number of hidden layers is40\n",
      "Training dataset accuracy: 0.6500753359985536,Testing dataset accuracy: 0.6501073422069558\n",
      "The number of hidden layers is45\n",
      "Training dataset accuracy: 0.6500753359985536,Testing dataset accuracy: 0.6501073422069558\n",
      "The number of hidden layers is50\n",
      "Training dataset accuracy: 0.6500753359985536,Testing dataset accuracy: 0.6501073422069558\n"
     ]
    }
   ],
   "source": [
    "train_Acc_mean = []\n",
    "test_Acc_mean = []\n",
    "for h in range(10):\n",
    "    H = 5 * (h + 1)\n",
    "    train_Acc = []\n",
    "    test_Acc = []\n",
    "    for i in range(5):\n",
    "        # Initialize w and learning rate\n",
    "        w1 = get_w([10, H],10,2)\n",
    "        w2 = get_w([H, 2 ],10,2)\n",
    "        lr = 0.001\n",
    "        #training\n",
    "        w1, w2 = SBA(data_train[i], label_train[i], w1, w2, lr, 200)\n",
    "        train_Acc.append(Acc(data_train[i], label_train[i], w1, w2))\n",
    "        test_Acc.append(Acc(data_test[i], label_test[i], w1, w2))\n",
    "    print(f'The number of hidden layers is{H}')\n",
    "    print(f'Training dataset accuracy: {np.mean(np.array(train_Acc))},Testing dataset accuracy: {np.mean(np.array(test_Acc))}')\n",
    "    train_Acc_mean.append(np.mean(np.array(train_Acc)))\n",
    "    test_Acc_mean.append(np.mean(np.array(test_Acc)))"
   ]
  },
  {
   "cell_type": "code",
   "execution_count": 46,
   "metadata": {},
   "outputs": [
    {
     "data": {
      "text/plain": [
       "<matplotlib.legend.Legend at 0xbf5d736be0>"
      ]
     },
     "execution_count": 46,
     "metadata": {},
     "output_type": "execute_result"
    },
    {
     "data": {
      "image/png": "[encoded data removed]",
      "text/plain": [
       "<Figure size 1152x648 with 1 Axes>"
      ]
     },
     "metadata": {
      "needs_background": "light"
     },
     "output_type": "display_data"
    }
   ],
   "source": [
    "x = np.linspace(5,50,10)\n",
    "plt.figure(figsize= (16,9))\n",
    "plt.plot(x,train_Acc_mean,label='train')\n",
    "plt.plot(x,test_Acc_mean,label='test')\n",
    "plt.xlabel('Number of hidden layer')\n",
    "plt.ylabel('Accuracy')\n",
    "plt.legend()"
   ]
  }
 ],
 "metadata": {
  "hide_input": false,
  "kernelspec": {
   "display_name": "Python 3",
   "language": "python",
   "name": "python3"
  },
  "language_info": {
   "codemirror_mode": {
    "name": "ipython",
    "version": 3
   },
   "file_extension": ".py",
   "mimetype": "text/x-python",
   "name": "python",
   "nbconvert_exporter": "python",
   "pygments_lexer": "ipython3",
   "version": "3.7.0"
  },
  "toc": {
   "base_numbering": 1,
   "nav_menu": {},
   "number_sections": true,
   "sideBar": true,
   "skip_h1_title": false,
   "title_cell": "Table of Contents",
   "title_sidebar": "Contents",
   "toc_cell": false,
   "toc_position": {},
   "toc_section_display": true,
   "toc_window_display": false
  },
  "varInspector": {
   "cols": {
    "lenName": 16,
    "lenType": 16,
    "lenVar": 40
   },
   "kernels_config": {
    "python": {
     "delete_cmd_postfix": "",
     "delete_cmd_prefix": "del ",
     "library": "var_list.py",
     "varRefreshCmd": "print(var_dic_list())"
    },
    "r": {
     "delete_cmd_postfix": ") ",
     "delete_cmd_prefix": "rm(",
     "library": "var_list.r",
     "varRefreshCmd": "cat(var_dic_list()) "
    }
   },
   "types_to_exclude": [
    "module",
    "function",
    "builtin_function_or_method",
    "instance",
    "_Feature"
   ],
   "window_display": false
  }
 },
 "nbformat": 4,
 "nbformat_minor": 2
}
