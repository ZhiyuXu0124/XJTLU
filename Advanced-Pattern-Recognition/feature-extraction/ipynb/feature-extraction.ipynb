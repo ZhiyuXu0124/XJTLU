{
 "cells": [
  {
   "cell_type": "code",
   "execution_count": 1,
   "metadata": {},
   "outputs": [],
   "source": [
    "import numpy as np\n",
    "import pandas as pd\n",
    "import matplotlib.pyplot as plt\n",
    "from sklearn import decomposition"
   ]
  },
  {
   "cell_type": "code",
   "execution_count": 13,
   "metadata": {
    "scrolled": true
   },
   "outputs": [
    {
     "name": "stdout",
     "output_type": "stream",
     "text": [
      "       0    1    2    3               4\n",
      "0    5.1  3.5  1.4  0.2     Iris-setosa\n",
      "1    4.9  3.0  1.4  0.2     Iris-setosa\n",
      "2    4.7  3.2  1.3  0.2     Iris-setosa\n",
      "3    4.6  3.1  1.5  0.2     Iris-setosa\n",
      "4    5.0  3.6  1.4  0.2     Iris-setosa\n",
      "5    5.4  3.9  1.7  0.4     Iris-setosa\n",
      "6    4.6  3.4  1.4  0.3     Iris-setosa\n",
      "7    5.0  3.4  1.5  0.2     Iris-setosa\n",
      "8    4.4  2.9  1.4  0.2     Iris-setosa\n",
      "9    4.9  3.1  1.5  0.1     Iris-setosa\n",
      "10   5.4  3.7  1.5  0.2     Iris-setosa\n",
      "11   4.8  3.4  1.6  0.2     Iris-setosa\n",
      "12   4.8  3.0  1.4  0.1     Iris-setosa\n",
      "13   4.3  3.0  1.1  0.1     Iris-setosa\n",
      "14   5.8  4.0  1.2  0.2     Iris-setosa\n",
      "15   5.7  4.4  1.5  0.4     Iris-setosa\n",
      "16   5.4  3.9  1.3  0.4     Iris-setosa\n",
      "17   5.1  3.5  1.4  0.3     Iris-setosa\n",
      "18   5.7  3.8  1.7  0.3     Iris-setosa\n",
      "19   5.1  3.8  1.5  0.3     Iris-setosa\n",
      "20   5.4  3.4  1.7  0.2     Iris-setosa\n",
      "21   5.1  3.7  1.5  0.4     Iris-setosa\n",
      "22   4.6  3.6  1.0  0.2     Iris-setosa\n",
      "23   5.1  3.3  1.7  0.5     Iris-setosa\n",
      "24   4.8  3.4  1.9  0.2     Iris-setosa\n",
      "25   5.0  3.0  1.6  0.2     Iris-setosa\n",
      "26   5.0  3.4  1.6  0.4     Iris-setosa\n",
      "27   5.2  3.5  1.5  0.2     Iris-setosa\n",
      "28   5.2  3.4  1.4  0.2     Iris-setosa\n",
      "29   4.7  3.2  1.6  0.2     Iris-setosa\n",
      "..   ...  ...  ...  ...             ...\n",
      "120  6.9  3.2  5.7  2.3  Iris-virginica\n",
      "121  5.6  2.8  4.9  2.0  Iris-virginica\n",
      "122  7.7  2.8  6.7  2.0  Iris-virginica\n",
      "123  6.3  2.7  4.9  1.8  Iris-virginica\n",
      "124  6.7  3.3  5.7  2.1  Iris-virginica\n",
      "125  7.2  3.2  6.0  1.8  Iris-virginica\n",
      "126  6.2  2.8  4.8  1.8  Iris-virginica\n",
      "127  6.1  3.0  4.9  1.8  Iris-virginica\n",
      "128  6.4  2.8  5.6  2.1  Iris-virginica\n",
      "129  7.2  3.0  5.8  1.6  Iris-virginica\n",
      "130  7.4  2.8  6.1  1.9  Iris-virginica\n",
      "131  7.9  3.8  6.4  2.0  Iris-virginica\n",
      "132  6.4  2.8  5.6  2.2  Iris-virginica\n",
      "133  6.3  2.8  5.1  1.5  Iris-virginica\n",
      "134  6.1  2.6  5.6  1.4  Iris-virginica\n",
      "135  7.7  3.0  6.1  2.3  Iris-virginica\n",
      "136  6.3  3.4  5.6  2.4  Iris-virginica\n",
      "137  6.4  3.1  5.5  1.8  Iris-virginica\n",
      "138  6.0  3.0  4.8  1.8  Iris-virginica\n",
      "139  6.9  3.1  5.4  2.1  Iris-virginica\n",
      "140  6.7  3.1  5.6  2.4  Iris-virginica\n",
      "141  6.9  3.1  5.1  2.3  Iris-virginica\n",
      "142  5.8  2.7  5.1  1.9  Iris-virginica\n",
      "143  6.8  3.2  5.9  2.3  Iris-virginica\n",
      "144  6.7  3.3  5.7  2.5  Iris-virginica\n",
      "145  6.7  3.0  5.2  2.3  Iris-virginica\n",
      "146  6.3  2.5  5.0  1.9  Iris-virginica\n",
      "147  6.5  3.0  5.2  2.0  Iris-virginica\n",
      "148  6.2  3.4  5.4  2.3  Iris-virginica\n",
      "149  5.9  3.0  5.1  1.8  Iris-virginica\n",
      "\n",
      "[150 rows x 5 columns]\n"
     ]
    }
   ],
   "source": [
    "iris = pd.read_table('iris.data.txt', delimiter=',',header = None)\n",
    "iris_data = iris[[0,1,2,3]]\n",
    "iris_target = iris[4]\n",
    "print(iris)"
   ]
  },
  {
   "cell_type": "markdown",
   "metadata": {},
   "source": [
    "# PCA\n",
    "## Standardize the data\n",
    "Find the average of each column separately, and subtract the average from the original data"
   ]
  },
  {
   "cell_type": "code",
   "execution_count": 3,
   "metadata": {},
   "outputs": [
    {
     "name": "stdout",
     "output_type": "stream",
     "text": [
      "(150, 4) 150 4\n",
      "[[-7.43333333e-01  4.46000000e-01 -2.35866667e+00 -9.98666667e-01]\n",
      " [-9.43333333e-01 -5.40000000e-02 -2.35866667e+00 -9.98666667e-01]\n",
      " [-1.14333333e+00  1.46000000e-01 -2.45866667e+00 -9.98666667e-01]\n",
      " [-1.24333333e+00  4.60000000e-02 -2.25866667e+00 -9.98666667e-01]\n",
      " [-8.43333333e-01  5.46000000e-01 -2.35866667e+00 -9.98666667e-01]\n",
      " [-4.43333333e-01  8.46000000e-01 -2.05866667e+00 -7.98666667e-01]\n",
      " [-1.24333333e+00  3.46000000e-01 -2.35866667e+00 -8.98666667e-01]\n",
      " [-8.43333333e-01  3.46000000e-01 -2.25866667e+00 -9.98666667e-01]\n",
      " [-1.44333333e+00 -1.54000000e-01 -2.35866667e+00 -9.98666667e-01]\n",
      " [-9.43333333e-01  4.60000000e-02 -2.25866667e+00 -1.09866667e+00]\n",
      " [-4.43333333e-01  6.46000000e-01 -2.25866667e+00 -9.98666667e-01]\n",
      " [-1.04333333e+00  3.46000000e-01 -2.15866667e+00 -9.98666667e-01]\n",
      " [-1.04333333e+00 -5.40000000e-02 -2.35866667e+00 -1.09866667e+00]\n",
      " [-1.54333333e+00 -5.40000000e-02 -2.65866667e+00 -1.09866667e+00]\n",
      " [-4.33333333e-02  9.46000000e-01 -2.55866667e+00 -9.98666667e-01]\n",
      " [-1.43333333e-01  1.34600000e+00 -2.25866667e+00 -7.98666667e-01]\n",
      " [-4.43333333e-01  8.46000000e-01 -2.45866667e+00 -7.98666667e-01]\n",
      " [-7.43333333e-01  4.46000000e-01 -2.35866667e+00 -8.98666667e-01]\n",
      " [-1.43333333e-01  7.46000000e-01 -2.05866667e+00 -8.98666667e-01]\n",
      " [-7.43333333e-01  7.46000000e-01 -2.25866667e+00 -8.98666667e-01]\n",
      " [-4.43333333e-01  3.46000000e-01 -2.05866667e+00 -9.98666667e-01]\n",
      " [-7.43333333e-01  6.46000000e-01 -2.25866667e+00 -7.98666667e-01]\n",
      " [-1.24333333e+00  5.46000000e-01 -2.75866667e+00 -9.98666667e-01]\n",
      " [-7.43333333e-01  2.46000000e-01 -2.05866667e+00 -6.98666667e-01]\n",
      " [-1.04333333e+00  3.46000000e-01 -1.85866667e+00 -9.98666667e-01]\n",
      " [-8.43333333e-01 -5.40000000e-02 -2.15866667e+00 -9.98666667e-01]\n",
      " [-8.43333333e-01  3.46000000e-01 -2.15866667e+00 -7.98666667e-01]\n",
      " [-6.43333333e-01  4.46000000e-01 -2.25866667e+00 -9.98666667e-01]\n",
      " [-6.43333333e-01  3.46000000e-01 -2.35866667e+00 -9.98666667e-01]\n",
      " [-1.14333333e+00  1.46000000e-01 -2.15866667e+00 -9.98666667e-01]\n",
      " [-1.04333333e+00  4.60000000e-02 -2.15866667e+00 -9.98666667e-01]\n",
      " [-4.43333333e-01  3.46000000e-01 -2.25866667e+00 -7.98666667e-01]\n",
      " [-6.43333333e-01  1.04600000e+00 -2.25866667e+00 -1.09866667e+00]\n",
      " [-3.43333333e-01  1.14600000e+00 -2.35866667e+00 -9.98666667e-01]\n",
      " [-9.43333333e-01  4.60000000e-02 -2.25866667e+00 -1.09866667e+00]\n",
      " [-8.43333333e-01  1.46000000e-01 -2.55866667e+00 -9.98666667e-01]\n",
      " [-3.43333333e-01  4.46000000e-01 -2.45866667e+00 -9.98666667e-01]\n",
      " [-9.43333333e-01  4.60000000e-02 -2.25866667e+00 -1.09866667e+00]\n",
      " [-1.44333333e+00 -5.40000000e-02 -2.45866667e+00 -9.98666667e-01]\n",
      " [-7.43333333e-01  3.46000000e-01 -2.25866667e+00 -9.98666667e-01]\n",
      " [-8.43333333e-01  4.46000000e-01 -2.45866667e+00 -8.98666667e-01]\n",
      " [-1.34333333e+00 -7.54000000e-01 -2.45866667e+00 -8.98666667e-01]\n",
      " [-1.44333333e+00  1.46000000e-01 -2.45866667e+00 -9.98666667e-01]\n",
      " [-8.43333333e-01  4.46000000e-01 -2.15866667e+00 -5.98666667e-01]\n",
      " [-7.43333333e-01  7.46000000e-01 -1.85866667e+00 -7.98666667e-01]\n",
      " [-1.04333333e+00 -5.40000000e-02 -2.35866667e+00 -8.98666667e-01]\n",
      " [-7.43333333e-01  7.46000000e-01 -2.15866667e+00 -9.98666667e-01]\n",
      " [-1.24333333e+00  1.46000000e-01 -2.35866667e+00 -9.98666667e-01]\n",
      " [-5.43333333e-01  6.46000000e-01 -2.25866667e+00 -9.98666667e-01]\n",
      " [-8.43333333e-01  2.46000000e-01 -2.35866667e+00 -9.98666667e-01]\n",
      " [ 1.15666667e+00  1.46000000e-01  9.41333333e-01  2.01333333e-01]\n",
      " [ 5.56666667e-01  1.46000000e-01  7.41333333e-01  3.01333333e-01]\n",
      " [ 1.05666667e+00  4.60000000e-02  1.14133333e+00  3.01333333e-01]\n",
      " [-3.43333333e-01 -7.54000000e-01  2.41333333e-01  1.01333333e-01]\n",
      " [ 6.56666667e-01 -2.54000000e-01  8.41333333e-01  3.01333333e-01]\n",
      " [-1.43333333e-01 -2.54000000e-01  7.41333333e-01  1.01333333e-01]\n",
      " [ 4.56666667e-01  2.46000000e-01  9.41333333e-01  4.01333333e-01]\n",
      " [-9.43333333e-01 -6.54000000e-01 -4.58666667e-01 -1.98666667e-01]\n",
      " [ 7.56666667e-01 -1.54000000e-01  8.41333333e-01  1.01333333e-01]\n",
      " [-6.43333333e-01 -3.54000000e-01  1.41333333e-01  2.01333333e-01]\n",
      " [-8.43333333e-01 -1.05400000e+00 -2.58666667e-01 -1.98666667e-01]\n",
      " [ 5.66666667e-02 -5.40000000e-02  4.41333333e-01  3.01333333e-01]\n",
      " [ 1.56666667e-01 -8.54000000e-01  2.41333333e-01 -1.98666667e-01]\n",
      " [ 2.56666667e-01 -1.54000000e-01  9.41333333e-01  2.01333333e-01]\n",
      " [-2.43333333e-01 -1.54000000e-01 -1.58666667e-01  1.01333333e-01]\n",
      " [ 8.56666667e-01  4.60000000e-02  6.41333333e-01  2.01333333e-01]\n",
      " [-2.43333333e-01 -5.40000000e-02  7.41333333e-01  3.01333333e-01]\n",
      " [-4.33333333e-02 -3.54000000e-01  3.41333333e-01 -1.98666667e-01]\n",
      " [ 3.56666667e-01 -8.54000000e-01  7.41333333e-01  3.01333333e-01]\n",
      " [-2.43333333e-01 -5.54000000e-01  1.41333333e-01 -9.86666667e-02]\n",
      " [ 5.66666667e-02  1.46000000e-01  1.04133333e+00  6.01333333e-01]\n",
      " [ 2.56666667e-01 -2.54000000e-01  2.41333333e-01  1.01333333e-01]\n",
      " [ 4.56666667e-01 -5.54000000e-01  1.14133333e+00  3.01333333e-01]\n",
      " [ 2.56666667e-01 -2.54000000e-01  9.41333333e-01  1.33333333e-03]\n",
      " [ 5.56666667e-01 -1.54000000e-01  5.41333333e-01  1.01333333e-01]\n",
      " [ 7.56666667e-01 -5.40000000e-02  6.41333333e-01  2.01333333e-01]\n",
      " [ 9.56666667e-01 -2.54000000e-01  1.04133333e+00  2.01333333e-01]\n",
      " [ 8.56666667e-01 -5.40000000e-02  1.24133333e+00  5.01333333e-01]\n",
      " [ 1.56666667e-01 -1.54000000e-01  7.41333333e-01  3.01333333e-01]\n",
      " [-1.43333333e-01 -4.54000000e-01 -2.58666667e-01 -1.98666667e-01]\n",
      " [-3.43333333e-01 -6.54000000e-01  4.13333333e-02 -9.86666667e-02]\n",
      " [-3.43333333e-01 -6.54000000e-01 -5.86666667e-02 -1.98666667e-01]\n",
      " [-4.33333333e-02 -3.54000000e-01  1.41333333e-01  1.33333333e-03]\n",
      " [ 1.56666667e-01 -3.54000000e-01  1.34133333e+00  4.01333333e-01]\n",
      " [-4.43333333e-01 -5.40000000e-02  7.41333333e-01  3.01333333e-01]\n",
      " [ 1.56666667e-01  3.46000000e-01  7.41333333e-01  4.01333333e-01]\n",
      " [ 8.56666667e-01  4.60000000e-02  9.41333333e-01  3.01333333e-01]\n",
      " [ 4.56666667e-01 -7.54000000e-01  6.41333333e-01  1.01333333e-01]\n",
      " [-2.43333333e-01 -5.40000000e-02  3.41333333e-01  1.01333333e-01]\n",
      " [-3.43333333e-01 -5.54000000e-01  2.41333333e-01  1.01333333e-01]\n",
      " [-3.43333333e-01 -4.54000000e-01  6.41333333e-01  1.33333333e-03]\n",
      " [ 2.56666667e-01 -5.40000000e-02  8.41333333e-01  2.01333333e-01]\n",
      " [-4.33333333e-02 -4.54000000e-01  2.41333333e-01  1.33333333e-03]\n",
      " [-8.43333333e-01 -7.54000000e-01 -4.58666667e-01 -1.98666667e-01]\n",
      " [-2.43333333e-01 -3.54000000e-01  4.41333333e-01  1.01333333e-01]\n",
      " [-1.43333333e-01 -5.40000000e-02  4.41333333e-01  1.33333333e-03]\n",
      " [-1.43333333e-01 -1.54000000e-01  4.41333333e-01  1.01333333e-01]\n",
      " [ 3.56666667e-01 -1.54000000e-01  5.41333333e-01  1.01333333e-01]\n",
      " [-7.43333333e-01 -5.54000000e-01 -7.58666667e-01 -9.86666667e-02]\n",
      " [-1.43333333e-01 -2.54000000e-01  3.41333333e-01  1.01333333e-01]\n",
      " [ 4.56666667e-01  2.46000000e-01  2.24133333e+00  1.30133333e+00]\n",
      " [-4.33333333e-02 -3.54000000e-01  1.34133333e+00  7.01333333e-01]\n",
      " [ 1.25666667e+00 -5.40000000e-02  2.14133333e+00  9.01333333e-01]\n",
      " [ 4.56666667e-01 -1.54000000e-01  1.84133333e+00  6.01333333e-01]\n",
      " [ 6.56666667e-01 -5.40000000e-02  2.04133333e+00  1.00133333e+00]\n",
      " [ 1.75666667e+00 -5.40000000e-02  2.84133333e+00  9.01333333e-01]\n",
      " [-9.43333333e-01 -5.54000000e-01  7.41333333e-01  5.01333333e-01]\n",
      " [ 1.45666667e+00 -1.54000000e-01  2.54133333e+00  6.01333333e-01]\n",
      " [ 8.56666667e-01 -5.54000000e-01  2.04133333e+00  6.01333333e-01]\n",
      " [ 1.35666667e+00  5.46000000e-01  2.34133333e+00  1.30133333e+00]\n",
      " [ 6.56666667e-01  1.46000000e-01  1.34133333e+00  8.01333333e-01]\n",
      " [ 5.56666667e-01 -3.54000000e-01  1.54133333e+00  7.01333333e-01]\n",
      " [ 9.56666667e-01 -5.40000000e-02  1.74133333e+00  9.01333333e-01]\n",
      " [-1.43333333e-01 -5.54000000e-01  1.24133333e+00  8.01333333e-01]\n",
      " [-4.33333333e-02 -2.54000000e-01  1.34133333e+00  1.20133333e+00]\n",
      " [ 5.56666667e-01  1.46000000e-01  1.54133333e+00  1.10133333e+00]\n",
      " [ 6.56666667e-01 -5.40000000e-02  1.74133333e+00  6.01333333e-01]\n",
      " [ 1.85666667e+00  7.46000000e-01  2.94133333e+00  1.00133333e+00]\n",
      " [ 1.85666667e+00 -4.54000000e-01  3.14133333e+00  1.10133333e+00]\n",
      " [ 1.56666667e-01 -8.54000000e-01  1.24133333e+00  3.01333333e-01]\n",
      " [ 1.05666667e+00  1.46000000e-01  1.94133333e+00  1.10133333e+00]\n",
      " [-2.43333333e-01 -2.54000000e-01  1.14133333e+00  8.01333333e-01]\n",
      " [ 1.85666667e+00 -2.54000000e-01  2.94133333e+00  8.01333333e-01]\n",
      " [ 4.56666667e-01 -3.54000000e-01  1.14133333e+00  6.01333333e-01]\n",
      " [ 8.56666667e-01  2.46000000e-01  1.94133333e+00  9.01333333e-01]\n",
      " [ 1.35666667e+00  1.46000000e-01  2.24133333e+00  6.01333333e-01]\n",
      " [ 3.56666667e-01 -2.54000000e-01  1.04133333e+00  6.01333333e-01]\n",
      " [ 2.56666667e-01 -5.40000000e-02  1.14133333e+00  6.01333333e-01]\n",
      " [ 5.56666667e-01 -2.54000000e-01  1.84133333e+00  9.01333333e-01]\n",
      " [ 1.35666667e+00 -5.40000000e-02  2.04133333e+00  4.01333333e-01]\n",
      " [ 1.55666667e+00 -2.54000000e-01  2.34133333e+00  7.01333333e-01]\n",
      " [ 2.05666667e+00  7.46000000e-01  2.64133333e+00  8.01333333e-01]\n",
      " [ 5.56666667e-01 -2.54000000e-01  1.84133333e+00  1.00133333e+00]\n",
      " [ 4.56666667e-01 -2.54000000e-01  1.34133333e+00  3.01333333e-01]\n",
      " [ 2.56666667e-01 -4.54000000e-01  1.84133333e+00  2.01333333e-01]\n",
      " [ 1.85666667e+00 -5.40000000e-02  2.34133333e+00  1.10133333e+00]\n",
      " [ 4.56666667e-01  3.46000000e-01  1.84133333e+00  1.20133333e+00]\n",
      " [ 5.56666667e-01  4.60000000e-02  1.74133333e+00  6.01333333e-01]\n",
      " [ 1.56666667e-01 -5.40000000e-02  1.04133333e+00  6.01333333e-01]\n",
      " [ 1.05666667e+00  4.60000000e-02  1.64133333e+00  9.01333333e-01]\n",
      " [ 8.56666667e-01  4.60000000e-02  1.84133333e+00  1.20133333e+00]\n",
      " [ 1.05666667e+00  4.60000000e-02  1.34133333e+00  1.10133333e+00]\n",
      " [-4.33333333e-02 -3.54000000e-01  1.34133333e+00  7.01333333e-01]\n",
      " [ 9.56666667e-01  1.46000000e-01  2.14133333e+00  1.10133333e+00]\n",
      " [ 8.56666667e-01  2.46000000e-01  1.94133333e+00  1.30133333e+00]\n",
      " [ 8.56666667e-01 -5.40000000e-02  1.44133333e+00  1.10133333e+00]\n",
      " [ 4.56666667e-01 -5.54000000e-01  1.24133333e+00  7.01333333e-01]\n",
      " [ 6.56666667e-01 -5.40000000e-02  1.44133333e+00  8.01333333e-01]\n",
      " [ 3.56666667e-01  3.46000000e-01  1.64133333e+00  1.10133333e+00]\n",
      " [ 5.66666667e-02 -5.40000000e-02  1.34133333e+00  6.01333333e-01]]\n"
     ]
    }
   ],
   "source": [
    "X = np.mat(iris_data)\n",
    "X_mean = np.mean(X,axis=0)\n",
    "X_meanRemoved = X - X_mean\n",
    "n_samples,n_features = X.shape\n",
    "print(X.shape,n_samples,n_features)\n",
    "print(X_meanRemoved)"
   ]
  },
  {
   "cell_type": "markdown",
   "metadata": {},
   "source": [
    "## Compute the covariance matrix\n",
    "$\n",
    "\\sum_{}\\widehat{X}^T \\widehat{X}\n",
    "$"
   ]
  },
  {
   "cell_type": "code",
   "execution_count": 5,
   "metadata": {},
   "outputs": [
    {
     "name": "stdout",
     "output_type": "stream",
     "text": [
      "[[102.16833333  -5.851      189.77866667  77.01866667]\n",
      " [ -5.851       28.0126     -47.9352     -17.5792    ]\n",
      " [189.77866667 -47.9352     463.86373333 193.16173333]\n",
      " [ 77.01866667 -17.5792     193.16173333  86.77973333]]\n"
     ]
    }
   ],
   "source": [
    "covMat = np.dot(X_meanRemoved.T, X_meanRemoved)\n",
    "print(covMat)"
   ]
  },
  {
   "cell_type": "markdown",
   "metadata": {},
   "source": [
    "## eigvectors"
   ]
  },
  {
   "cell_type": "code",
   "execution_count": 6,
   "metadata": {},
   "outputs": [
    {
     "name": "stdout",
     "output_type": "stream",
     "text": [
      "[[ 2.82713597 -5.64133105]\n",
      " [ 2.79595248 -5.14516688]\n",
      " [ 2.62152356 -5.17737812]\n",
      " [ 2.7649059  -5.00359942]\n",
      " [ 2.78275012 -5.64864829]\n",
      " [ 3.23144574 -6.06250644]\n",
      " [ 2.69045242 -5.23261922]\n",
      " [ 2.8848611  -5.48512908]\n",
      " [ 2.62338453 -4.7439257 ]\n",
      " [ 2.83749841 -5.20803203]]\n"
     ]
    }
   ],
   "source": [
    "eigVals,eigVects=np.linalg.eig(np.mat(covMat))\n",
    "eig_pairs = [(np.abs(eigVals[i]), eigVects[:,i]) for i in range(n_features)]\n",
    "# sort eig_vec based on eig_val from highest to lowest\n",
    "eig_pairs.sort(reverse=True)\n",
    "# Compute r eigenvectors with largest eigenvalues\n",
    "C=np.array([ele[1] for ele in eig_pairs[:2]])\n",
    "#get new data\n",
    "Y=np.dot(X,np.transpose(C))\n",
    "print(Y[:10])"
   ]
  },
  {
   "cell_type": "code",
   "execution_count": 7,
   "metadata": {},
   "outputs": [
    {
     "data": {
      "image/png": "[encoded data removed]",
      "text/plain": [
       "<Figure size 432x288 with 1 Axes>"
      ]
     },
     "metadata": {
      "needs_background": "light"
     },
     "output_type": "display_data"
    }
   ],
   "source": [
    "# PCA to 2-D\n",
    "ax = plt.figure()\n",
    "for color,target_name in zip(\"rgb\", ['Iris-setosa','Iris-versicolor','Iris-virginica']):\n",
    "    plt.scatter(np.array(Y[iris_target == target_name, 0]), np.array(Y[iris_target == target_name, 1]), c=color,label=target_name)\n",
    "plt.xlabel('Dimension1')\n",
    "plt.ylabel('Dimension2')\n",
    "plt.title(\"Iris\")\n",
    "plt.legend()\n",
    "plt.show()"
   ]
  },
  {
   "cell_type": "markdown",
   "metadata": {},
   "source": [
    "# PLA\n",
    "## Generate {$X_k$} matrix according to the labels of the examples."
   ]
  },
  {
   "cell_type": "code",
   "execution_count": 8,
   "metadata": {},
   "outputs": [
    {
     "name": "stdout",
     "output_type": "stream",
     "text": [
      "X_Iris-setosa: [[5.1 3.5 1.4 0.2]\n",
      " [4.9 3.  1.4 0.2]\n",
      " [4.7 3.2 1.3 0.2]\n",
      " [4.6 3.1 1.5 0.2]\n",
      " [5.  3.6 1.4 0.2]]\n",
      "\n",
      "X_Iris-versicolor: [[7.  3.2 4.7 1.4]\n",
      " [6.4 3.2 4.5 1.5]\n",
      " [6.9 3.1 4.9 1.5]\n",
      " [5.5 2.3 4.  1.3]\n",
      " [6.5 2.8 4.6 1.5]]\n",
      "\n",
      "X_Iris-virginica: [[6.3 3.3 6.  2.5]\n",
      " [5.8 2.7 5.1 1.9]\n",
      " [7.1 3.  5.9 2.1]\n",
      " [6.3 2.9 5.6 1.8]\n",
      " [6.5 3.  5.8 2.2]]\n",
      "\n"
     ]
    }
   ],
   "source": [
    "X_K = []\n",
    "for label,i in zip(['Iris-setosa','Iris-versicolor','Iris-virginica'],range(n_features)):\n",
    "    X_K.append(X[iris_target == label])\n",
    "    print('X_%s: %s\\n' % (label, X_K[i][:5]))"
   ]
  },
  {
   "cell_type": "markdown",
   "metadata": {},
   "source": [
    "## Compute the class-wise mean and the total mean of the data matrix"
   ]
  },
  {
   "cell_type": "code",
   "execution_count": 11,
   "metadata": {},
   "outputs": [
    {
     "name": "stdout",
     "output_type": "stream",
     "text": [
      "Total mean of the data matrix of:[[5.84333333 3.054      3.75866667 1.19866667]]\n",
      "Class-wise mean of Iris-setosa: [[5.006 3.418 1.464 0.244]]\n",
      "\n",
      "Class-wise mean of Iris-versicolor: [[5.936 2.77  4.26  1.326]]\n",
      "\n",
      "Class-wise mean of Iris-virginica: [[6.588 2.974 5.552 2.026]]\n",
      "\n"
     ]
    }
   ],
   "source": [
    "mean_class = []\n",
    "mean_total = np.mean(X, axis=0)\n",
    "print('Total mean of the data matrix of:%s'%mean_total)\n",
    "for label,i in zip(['Iris-setosa','Iris-versicolor','Iris-virginica'],range(n_features)):\n",
    "    mean_class.append(np.mean(X_K[i], axis=0))\n",
    "    print('Class-wise mean of %s: %s\\n' % (label, mean_class[i]))"
   ]
  },
  {
   "cell_type": "markdown",
   "metadata": {},
   "source": [
    "##  Compute the within-class covariance matrix $S_W$"
   ]
  },
  {
   "cell_type": "code",
   "execution_count": 13,
   "metadata": {},
   "outputs": [
    {
     "name": "stdout",
     "output_type": "stream",
     "text": [
      "Within-class scatter matrix: 4x4 \n",
      " [[38.9562 13.683  24.614   5.6556]\n",
      " [13.683  17.035   8.12    4.9132]\n",
      " [24.614   8.12   27.22    6.2536]\n",
      " [ 5.6556  4.9132  6.2536  6.1756]]\n"
     ]
    }
   ],
   "source": [
    "d = n_features  # number of features\n",
    "S_W = np.zeros((d, d))\n",
    "for label, mc in zip(['Iris-setosa','Iris-versicolor','Iris-virginica'], mean_class):\n",
    "    class_scatter = np.zeros((d, d))  # scatter matrix for each class\n",
    "    for row in X[iris_target == label]:\n",
    "        row, mc = row.reshape(d, 1), mc.reshape(d, 1)  # make column vectors\n",
    "        class_scatter += (row - mc).dot((row - mc).T)\n",
    "    S_W += class_scatter                          # sum class scatter matrices\n",
    "\n",
    "print('Within-class scatter matrix: %sx%s \\n' % (S_W.shape[0], S_W.shape[1]),S_W)"
   ]
  },
  {
   "cell_type": "markdown",
   "metadata": {},
   "source": [
    "## Compute the between-class covariance matrix $S_B$"
   ]
  },
  {
   "cell_type": "code",
   "execution_count": 15,
   "metadata": {},
   "outputs": [
    {
     "name": "stdout",
     "output_type": "stream",
     "text": [
      "Between-class covariance matrix: 4x4 \n",
      " [[ 63.21213333 -19.534      165.16466667  71.36306667]\n",
      " [-19.534       10.9776     -56.0552     -22.4924    ]\n",
      " [165.16466667 -56.0552     436.64373333 186.90813333]\n",
      " [ 71.36306667 -22.4924     186.90813333  80.60413333]]\n"
     ]
    }
   ],
   "source": [
    "mean_total = np.mean(X, axis=0)\n",
    "S_B = np.zeros((d, d))\n",
    "for label, mc in zip(['Iris-setosa','Iris-versicolor','Iris-virginica'],mean_class):\n",
    "    n = X[iris_target ==label,:].shape[0]\n",
    "    mc = mc.reshape(d, 1)  # make column vector\n",
    "    mean_total = mean_total.reshape(d, 1)  # make column vector\n",
    "    S_B += n * (mc - mean_total).dot((mc - mean_total).T)\n",
    "print('Between-class covariance matrix: %sx%s \\n' % (S_B.shape[0], S_B.shape[1]),S_B)"
   ]
  },
  {
   "cell_type": "markdown",
   "metadata": {},
   "source": [
    "## Find K-1 projection eigvector of ${S_B^{-1}}{S_W}$ as the matrix C and transform the data matrix X"
   ]
  },
  {
   "cell_type": "code",
   "execution_count": 17,
   "metadata": {},
   "outputs": [],
   "source": [
    "eigVals_PLA, eigVecs_PLA = np.linalg.eig(np.linalg.inv(S_W).dot(S_B))"
   ]
  },
  {
   "cell_type": "code",
   "execution_count": 18,
   "metadata": {},
   "outputs": [
    {
     "name": "stdout",
     "output_type": "stream",
     "text": [
      "[[ 1.49220928 -1.9047102 ]\n",
      " [ 1.25765567 -1.60841445]\n",
      " [ 1.3487506  -1.74984635]\n",
      " [ 1.18024885 -1.63919095]\n",
      " [ 1.51043263 -1.96271183]\n",
      " [ 1.40183784 -2.22012481]\n",
      " [ 1.27966155 -1.91802239]\n",
      " [ 1.37835575 -1.81948346]\n",
      " [ 1.11648646 -1.54502342]\n",
      " [ 1.3131003  -1.56518244]] (150, 2)\n"
     ]
    }
   ],
   "source": [
    "eig_pairs_PLA = [(np.abs(eigVals_PLA[i]), eigVecs_PLA[:,i]) for i in range(n_features)]\n",
    "# sort eig_vec based on eig_val from highest to lowest\n",
    "eig_pairs_PLA.sort(reverse=True)\n",
    "# Compute r eigenvectors with largest eigenvalues\n",
    "C_PLA=np.array([ele[1] for ele in eig_pairs_PLA[:2]])\n",
    "#get new data\n",
    "Y_PLA=np.dot(X,np.transpose(C_PLA))\n",
    "print(Y_PLA[:10],Y_PLA.shape)"
   ]
  },
  {
   "cell_type": "code",
   "execution_count": 19,
   "metadata": {},
   "outputs": [
    {
     "data": {
      "image/png": "[encoded data removed]",
      "text/plain": [
       "<Figure size 1152x648 with 2 Axes>"
      ]
     },
     "metadata": {
      "needs_background": "light"
     },
     "output_type": "display_data"
    }
   ],
   "source": [
    "plt.figure(figsize=(16,9))\n",
    "plt.subplot(1, 2, 1)\n",
    "for color,target_name in zip(\"rgb\", ['Iris-setosa','Iris-versicolor','Iris-virginica']):\n",
    "    plt.scatter(np.array(Y[iris_target == target_name, 0]), np.array(Y[iris_target == target_name, 1]), c=color,label=target_name)\n",
    "plt.xlabel('Dimension1')\n",
    "plt.ylabel('Dimension2')\n",
    "plt.title(\"Iris_PCA\")\n",
    "plt.legend()\n",
    "\n",
    "plt.subplot(1, 2, 2)\n",
    "for color,target_name in zip(\"rgb\", ['Iris-setosa','Iris-versicolor','Iris-virginica']):\n",
    "    plt.scatter(np.array(Y_PLA[iris_target == target_name, 0]), np.array(Y_PLA[iris_target == target_name, 1]), c=color,label=target_name)\n",
    "plt.xlabel('Dimension1')\n",
    "plt.ylabel('Dimension2')\n",
    "plt.title(\"Iris_PLA\")\n",
    "plt.legend()\n",
    "plt.show()"
   ]
  },
  {
   "cell_type": "code",
   "execution_count": 118,
   "metadata": {},
   "outputs": [
    {
     "data": {
      "image/png": "[encoded data removed]",
      "text/plain": [
       "<Figure size 1152x648 with 2 Axes>"
      ]
     },
     "metadata": {
      "needs_background": "light"
     },
     "output_type": "display_data"
    }
   ],
   "source": [
    "def PCA(data, n):\n",
    "    from sklearn.decomposition import PCA\n",
    "    pca = PCA(n_components=n)\n",
    "    pca_result  = pca.fit_transform(data)\n",
    "    return pca_result\n",
    "\n",
    "def LDA(data,target, n):\n",
    "    from sklearn.discriminant_analysis import LinearDiscriminantAnalysis as LDA\n",
    "    lda = LDA(n_components=n)\n",
    "    lda_result = lda.fit_transform(data,target)\n",
    "    return lda_result\n",
    "\n",
    "def plot(data,target, n):\n",
    "    pca_result = PCA(data, n)\n",
    "    lda_result = LDA(data,target, n)\n",
    "    \n",
    "    plt.figure(figsize=(16,9))\n",
    "    plt.subplot(1, 2, 1)\n",
    "    for color,target_name in zip(\"rgb\", ['Iris-setosa','Iris-versicolor','Iris-virginica']):\n",
    "        plt.scatter(np.array(pca_result[iris_target == target_name, 0]), np.array(pca_result[iris_target == target_name, 1]), c=color, label=target_name)\n",
    "    plt.title('PCA on iris')\n",
    "\n",
    "    plt.subplot(1, 2, 2)\n",
    "    for color,target_name in zip(\"rgb\", ['Iris-setosa','Iris-versicolor','Iris-virginica']):\n",
    "        plt.scatter(np.array(lda_result[iris_target == target_name, 0]), np.array(lda_result[iris_target == target_name, 1]), c=color, label=target_name)\n",
    "    plt.title('LDA on iris')\n",
    "    plt.show()\n",
    "    \n",
    "plot(X,iris_target,2)"
   ]
  }
 ],
 "metadata": {
  "hide_input": false,
  "kernelspec": {
   "display_name": "Python 3",
   "language": "python",
   "name": "python3"
  },
  "language_info": {
   "codemirror_mode": {
    "name": "ipython",
    "version": 3
   },
   "file_extension": ".py",
   "mimetype": "text/x-python",
   "name": "python",
   "nbconvert_exporter": "python",
   "pygments_lexer": "ipython3",
   "version": "3.7.0"
  },
  "toc": {
   "base_numbering": 1,
   "nav_menu": {},
   "number_sections": true,
   "sideBar": true,
   "skip_h1_title": false,
   "title_cell": "Table of Contents",
   "title_sidebar": "Contents",
   "toc_cell": false,
   "toc_position": {},
   "toc_section_display": true,
   "toc_window_display": false
  },
  "varInspector": {
   "cols": {
    "lenName": 16,
    "lenType": 16,
    "lenVar": 40
   },
   "kernels_config": {
    "python": {
     "delete_cmd_postfix": "",
     "delete_cmd_prefix": "del ",
     "library": "var_list.py",
     "varRefreshCmd": "print(var_dic_list())"
    },
    "r": {
     "delete_cmd_postfix": ") ",
     "delete_cmd_prefix": "rm(",
     "library": "var_list.r",
     "varRefreshCmd": "cat(var_dic_list()) "
    }
   },
   "types_to_exclude": [
    "module",
    "function",
    "builtin_function_or_method",
    "instance",
    "_Feature"
   ],
   "window_display": false
  }
 },
 "nbformat": 4,
 "nbformat_minor": 2
}
